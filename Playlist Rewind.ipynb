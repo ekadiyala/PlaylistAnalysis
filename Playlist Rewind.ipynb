{
 "cells": [
  {
   "cell_type": "code",
   "execution_count": 64,
   "metadata": {},
   "outputs": [],
   "source": [
    "# imports\n",
    "import numpy as np\n",
    "import pandas as pd\n",
    "import seaborn as  sns\n",
    "import matplotlib.pyplot as plt\n",
    "import matplotlib.dates as mdates"
   ]
  },
  {
   "cell_type": "code",
   "execution_count": 65,
   "metadata": {},
   "outputs": [],
   "source": [
    "# import csv\n",
    "df = pd.read_csv('rare_complete.csv')"
   ]
  },
  {
   "cell_type": "code",
   "execution_count": 67,
   "metadata": {},
   "outputs": [
    {
     "data": {
      "text/html": [
       "<div>\n",
       "<style scoped>\n",
       "    .dataframe tbody tr th:only-of-type {\n",
       "        vertical-align: middle;\n",
       "    }\n",
       "\n",
       "    .dataframe tbody tr th {\n",
       "        vertical-align: top;\n",
       "    }\n",
       "\n",
       "    .dataframe thead th {\n",
       "        text-align: right;\n",
       "    }\n",
       "</style>\n",
       "<table border=\"1\" class=\"dataframe\">\n",
       "  <thead>\n",
       "    <tr style=\"text-align: right;\">\n",
       "      <th></th>\n",
       "      <th>Track</th>\n",
       "      <th>Artist</th>\n",
       "      <th>Album</th>\n",
       "      <th>Genre</th>\n",
       "      <th>Size</th>\n",
       "      <th>Time</th>\n",
       "      <th>Year</th>\n",
       "      <th>Date Added</th>\n",
       "      <th>Date</th>\n",
       "      <th>Unnamed: 9</th>\n",
       "      <th>Bit Rate</th>\n",
       "      <th>Sample Rate</th>\n",
       "      <th>Plays</th>\n",
       "      <th>Last Played</th>\n",
       "      <th>Skips</th>\n",
       "    </tr>\n",
       "  </thead>\n",
       "  <tbody>\n",
       "    <tr>\n",
       "      <td>0</td>\n",
       "      <td>Never Enough</td>\n",
       "      <td>Rex Orange County</td>\n",
       "      <td>Apricot Princess</td>\n",
       "      <td>Alternative</td>\n",
       "      <td>10355717.0</td>\n",
       "      <td>298.0</td>\n",
       "      <td>2017.0</td>\n",
       "      <td>7/7/2018, 2:32:00 AM</td>\n",
       "      <td>Saturday, July 7, 2018</td>\n",
       "      <td>2:32:00 AM</td>\n",
       "      <td>256.0</td>\n",
       "      <td>44100.0</td>\n",
       "      <td>41.0</td>\n",
       "      <td>4/30/2020 17:33</td>\n",
       "      <td>4.0</td>\n",
       "    </tr>\n",
       "    <tr>\n",
       "      <td>1</td>\n",
       "      <td>250 Miles</td>\n",
       "      <td>Radio Moscow</td>\n",
       "      <td>Brain Cycles</td>\n",
       "      <td>Rock</td>\n",
       "      <td>10126727.0</td>\n",
       "      <td>292.0</td>\n",
       "      <td>2009.0</td>\n",
       "      <td>7/7/2018, 2:32:00 AM</td>\n",
       "      <td>Saturday, July 7, 2018</td>\n",
       "      <td>2:32:00 AM</td>\n",
       "      <td>256.0</td>\n",
       "      <td>44100.0</td>\n",
       "      <td>NaN</td>\n",
       "      <td>NaN</td>\n",
       "      <td>NaN</td>\n",
       "    </tr>\n",
       "    <tr>\n",
       "      <td>2</td>\n",
       "      <td>Anemone</td>\n",
       "      <td>slenderbodies</td>\n",
       "      <td>Fabulist - EP</td>\n",
       "      <td>Alternative</td>\n",
       "      <td>8119232.0</td>\n",
       "      <td>228.0</td>\n",
       "      <td>2017.0</td>\n",
       "      <td>7/7/2018, 2:32:17 AM</td>\n",
       "      <td>Saturday, July 7, 2018</td>\n",
       "      <td>2:32:17 AM</td>\n",
       "      <td>256.0</td>\n",
       "      <td>44100.0</td>\n",
       "      <td>NaN</td>\n",
       "      <td>NaN</td>\n",
       "      <td>NaN</td>\n",
       "    </tr>\n",
       "    <tr>\n",
       "      <td>3</td>\n",
       "      <td>Home</td>\n",
       "      <td>Dan Croll</td>\n",
       "      <td>Sweet Disarray</td>\n",
       "      <td>Pop</td>\n",
       "      <td>8385631.0</td>\n",
       "      <td>229.0</td>\n",
       "      <td>2013.0</td>\n",
       "      <td>7/7/2018, 2:32:28 AM</td>\n",
       "      <td>Saturday, July 7, 2018</td>\n",
       "      <td>2:32:28 AM</td>\n",
       "      <td>256.0</td>\n",
       "      <td>44100.0</td>\n",
       "      <td>38.0</td>\n",
       "      <td>6/17/2020 10:22</td>\n",
       "      <td>18.0</td>\n",
       "    </tr>\n",
       "    <tr>\n",
       "      <td>4</td>\n",
       "      <td>Keep on Swinging</td>\n",
       "      <td>Rival Sons</td>\n",
       "      <td>Head Down</td>\n",
       "      <td>Rock</td>\n",
       "      <td>8532324.0</td>\n",
       "      <td>239.0</td>\n",
       "      <td>2012.0</td>\n",
       "      <td>7/7/2018, 2:32:38 AM</td>\n",
       "      <td>Saturday, July 7, 2018</td>\n",
       "      <td>2:32:38 AM</td>\n",
       "      <td>256.0</td>\n",
       "      <td>44100.0</td>\n",
       "      <td>NaN</td>\n",
       "      <td>NaN</td>\n",
       "      <td>NaN</td>\n",
       "    </tr>\n",
       "  </tbody>\n",
       "</table>\n",
       "</div>"
      ],
      "text/plain": [
       "              Track             Artist             Album        Genre  \\\n",
       "0      Never Enough  Rex Orange County  Apricot Princess  Alternative   \n",
       "1         250 Miles       Radio Moscow      Brain Cycles         Rock   \n",
       "2           Anemone      slenderbodies     Fabulist - EP  Alternative   \n",
       "3              Home          Dan Croll    Sweet Disarray          Pop   \n",
       "4  Keep on Swinging         Rival Sons         Head Down         Rock   \n",
       "\n",
       "         Size   Time    Year            Date Added                    Date  \\\n",
       "0  10355717.0  298.0  2017.0  7/7/2018, 2:32:00 AM  Saturday, July 7, 2018   \n",
       "1  10126727.0  292.0  2009.0  7/7/2018, 2:32:00 AM  Saturday, July 7, 2018   \n",
       "2   8119232.0  228.0  2017.0  7/7/2018, 2:32:17 AM  Saturday, July 7, 2018   \n",
       "3   8385631.0  229.0  2013.0  7/7/2018, 2:32:28 AM  Saturday, July 7, 2018   \n",
       "4   8532324.0  239.0  2012.0  7/7/2018, 2:32:38 AM  Saturday, July 7, 2018   \n",
       "\n",
       "    Unnamed: 9  Bit Rate  Sample Rate  Plays      Last Played  Skips  \n",
       "0   2:32:00 AM     256.0      44100.0   41.0  4/30/2020 17:33    4.0  \n",
       "1   2:32:00 AM     256.0      44100.0    NaN              NaN    NaN  \n",
       "2   2:32:17 AM     256.0      44100.0    NaN              NaN    NaN  \n",
       "3   2:32:28 AM     256.0      44100.0   38.0  6/17/2020 10:22   18.0  \n",
       "4   2:32:38 AM     256.0      44100.0    NaN              NaN    NaN  "
      ]
     },
     "execution_count": 67,
     "metadata": {},
     "output_type": "execute_result"
    }
   ],
   "source": [
    "df.head()"
   ]
  },
  {
   "cell_type": "code",
   "execution_count": 68,
   "metadata": {},
   "outputs": [],
   "source": [
    "# convert Date Added to datetime objects\n",
    "df['DATE'] = pd.to_datetime(df['Date Added'])"
   ]
  },
  {
   "cell_type": "code",
   "execution_count": 69,
   "metadata": {},
   "outputs": [
    {
     "data": {
      "text/html": [
       "<div>\n",
       "<style scoped>\n",
       "    .dataframe tbody tr th:only-of-type {\n",
       "        vertical-align: middle;\n",
       "    }\n",
       "\n",
       "    .dataframe tbody tr th {\n",
       "        vertical-align: top;\n",
       "    }\n",
       "\n",
       "    .dataframe thead th {\n",
       "        text-align: right;\n",
       "    }\n",
       "</style>\n",
       "<table border=\"1\" class=\"dataframe\">\n",
       "  <thead>\n",
       "    <tr style=\"text-align: right;\">\n",
       "      <th></th>\n",
       "      <th>Track</th>\n",
       "      <th>Artist</th>\n",
       "      <th>Album</th>\n",
       "      <th>Genre</th>\n",
       "      <th>Size</th>\n",
       "      <th>Time</th>\n",
       "      <th>Year</th>\n",
       "      <th>Date Added</th>\n",
       "      <th>Date</th>\n",
       "      <th>Unnamed: 9</th>\n",
       "      <th>Bit Rate</th>\n",
       "      <th>Sample Rate</th>\n",
       "      <th>Plays</th>\n",
       "      <th>Last Played</th>\n",
       "      <th>Skips</th>\n",
       "      <th>DATE</th>\n",
       "    </tr>\n",
       "  </thead>\n",
       "  <tbody>\n",
       "    <tr>\n",
       "      <td>0</td>\n",
       "      <td>Never Enough</td>\n",
       "      <td>Rex Orange County</td>\n",
       "      <td>Apricot Princess</td>\n",
       "      <td>Alternative</td>\n",
       "      <td>10355717.0</td>\n",
       "      <td>298.0</td>\n",
       "      <td>2017.0</td>\n",
       "      <td>7/7/2018, 2:32:00 AM</td>\n",
       "      <td>Saturday, July 7, 2018</td>\n",
       "      <td>2:32:00 AM</td>\n",
       "      <td>256.0</td>\n",
       "      <td>44100.0</td>\n",
       "      <td>41.0</td>\n",
       "      <td>4/30/2020 17:33</td>\n",
       "      <td>4.0</td>\n",
       "      <td>2018-07-07 02:32:00</td>\n",
       "    </tr>\n",
       "    <tr>\n",
       "      <td>1</td>\n",
       "      <td>250 Miles</td>\n",
       "      <td>Radio Moscow</td>\n",
       "      <td>Brain Cycles</td>\n",
       "      <td>Rock</td>\n",
       "      <td>10126727.0</td>\n",
       "      <td>292.0</td>\n",
       "      <td>2009.0</td>\n",
       "      <td>7/7/2018, 2:32:00 AM</td>\n",
       "      <td>Saturday, July 7, 2018</td>\n",
       "      <td>2:32:00 AM</td>\n",
       "      <td>256.0</td>\n",
       "      <td>44100.0</td>\n",
       "      <td>NaN</td>\n",
       "      <td>NaN</td>\n",
       "      <td>NaN</td>\n",
       "      <td>2018-07-07 02:32:00</td>\n",
       "    </tr>\n",
       "    <tr>\n",
       "      <td>2</td>\n",
       "      <td>Anemone</td>\n",
       "      <td>slenderbodies</td>\n",
       "      <td>Fabulist - EP</td>\n",
       "      <td>Alternative</td>\n",
       "      <td>8119232.0</td>\n",
       "      <td>228.0</td>\n",
       "      <td>2017.0</td>\n",
       "      <td>7/7/2018, 2:32:17 AM</td>\n",
       "      <td>Saturday, July 7, 2018</td>\n",
       "      <td>2:32:17 AM</td>\n",
       "      <td>256.0</td>\n",
       "      <td>44100.0</td>\n",
       "      <td>NaN</td>\n",
       "      <td>NaN</td>\n",
       "      <td>NaN</td>\n",
       "      <td>2018-07-07 02:32:17</td>\n",
       "    </tr>\n",
       "    <tr>\n",
       "      <td>3</td>\n",
       "      <td>Home</td>\n",
       "      <td>Dan Croll</td>\n",
       "      <td>Sweet Disarray</td>\n",
       "      <td>Pop</td>\n",
       "      <td>8385631.0</td>\n",
       "      <td>229.0</td>\n",
       "      <td>2013.0</td>\n",
       "      <td>7/7/2018, 2:32:28 AM</td>\n",
       "      <td>Saturday, July 7, 2018</td>\n",
       "      <td>2:32:28 AM</td>\n",
       "      <td>256.0</td>\n",
       "      <td>44100.0</td>\n",
       "      <td>38.0</td>\n",
       "      <td>6/17/2020 10:22</td>\n",
       "      <td>18.0</td>\n",
       "      <td>2018-07-07 02:32:28</td>\n",
       "    </tr>\n",
       "    <tr>\n",
       "      <td>4</td>\n",
       "      <td>Keep on Swinging</td>\n",
       "      <td>Rival Sons</td>\n",
       "      <td>Head Down</td>\n",
       "      <td>Rock</td>\n",
       "      <td>8532324.0</td>\n",
       "      <td>239.0</td>\n",
       "      <td>2012.0</td>\n",
       "      <td>7/7/2018, 2:32:38 AM</td>\n",
       "      <td>Saturday, July 7, 2018</td>\n",
       "      <td>2:32:38 AM</td>\n",
       "      <td>256.0</td>\n",
       "      <td>44100.0</td>\n",
       "      <td>NaN</td>\n",
       "      <td>NaN</td>\n",
       "      <td>NaN</td>\n",
       "      <td>2018-07-07 02:32:38</td>\n",
       "    </tr>\n",
       "  </tbody>\n",
       "</table>\n",
       "</div>"
      ],
      "text/plain": [
       "              Track             Artist             Album        Genre  \\\n",
       "0      Never Enough  Rex Orange County  Apricot Princess  Alternative   \n",
       "1         250 Miles       Radio Moscow      Brain Cycles         Rock   \n",
       "2           Anemone      slenderbodies     Fabulist - EP  Alternative   \n",
       "3              Home          Dan Croll    Sweet Disarray          Pop   \n",
       "4  Keep on Swinging         Rival Sons         Head Down         Rock   \n",
       "\n",
       "         Size   Time    Year            Date Added                    Date  \\\n",
       "0  10355717.0  298.0  2017.0  7/7/2018, 2:32:00 AM  Saturday, July 7, 2018   \n",
       "1  10126727.0  292.0  2009.0  7/7/2018, 2:32:00 AM  Saturday, July 7, 2018   \n",
       "2   8119232.0  228.0  2017.0  7/7/2018, 2:32:17 AM  Saturday, July 7, 2018   \n",
       "3   8385631.0  229.0  2013.0  7/7/2018, 2:32:28 AM  Saturday, July 7, 2018   \n",
       "4   8532324.0  239.0  2012.0  7/7/2018, 2:32:38 AM  Saturday, July 7, 2018   \n",
       "\n",
       "    Unnamed: 9  Bit Rate  Sample Rate  Plays      Last Played  Skips  \\\n",
       "0   2:32:00 AM     256.0      44100.0   41.0  4/30/2020 17:33    4.0   \n",
       "1   2:32:00 AM     256.0      44100.0    NaN              NaN    NaN   \n",
       "2   2:32:17 AM     256.0      44100.0    NaN              NaN    NaN   \n",
       "3   2:32:28 AM     256.0      44100.0   38.0  6/17/2020 10:22   18.0   \n",
       "4   2:32:38 AM     256.0      44100.0    NaN              NaN    NaN   \n",
       "\n",
       "                 DATE  \n",
       "0 2018-07-07 02:32:00  \n",
       "1 2018-07-07 02:32:00  \n",
       "2 2018-07-07 02:32:17  \n",
       "3 2018-07-07 02:32:28  \n",
       "4 2018-07-07 02:32:38  "
      ]
     },
     "execution_count": 69,
     "metadata": {},
     "output_type": "execute_result"
    }
   ],
   "source": [
    "df.head()"
   ]
  },
  {
   "cell_type": "code",
   "execution_count": 120,
   "metadata": {
    "scrolled": false
   },
   "outputs": [
    {
     "data": {
      "image/png": "[encoded data removed]",
      "text/plain": [
       "<Figure size 1440x576 with 1 Axes>"
      ]
     },
     "metadata": {
      "needs_background": "light"
     },
     "output_type": "display_data"
    }
   ],
   "source": [
    "# Initialize empty figure and axes\n",
    "fig = plt.figure(figsize = (20,8))\n",
    "ax = fig.add_subplot(1,1,1)\n",
    "# Plot songs added\n",
    "ax.plot(df['DATE'], df.index, color = 'green')\n",
    "# Label y-axis\n",
    "ax.set_ylabel('Songs Added', fontsize = 16)\n",
    "\n",
    "# Label x-axis\n",
    "ax.set_xlabel('Date Added To Grassy Knoll', fontsize = 16)\n",
    "\n",
    "# Format timestamps\n",
    "ax.xaxis.set_major_formatter(mdates.DateFormatter('%d-%b-%y'))\n",
    "# Format and rotate ticks\n",
    "plt.setp(ax.get_xticklabels(), rotation=45, fontsize=16, ha='right')\n",
    "ax.get_xticklabels()\n",
    "\n",
    "plt.savefig(\"figure1.png\" , transparent=True, pad_inches=0.4) # save as png"
   ]
  },
  {
   "cell_type": "code",
   "execution_count": 121,
   "metadata": {},
   "outputs": [],
   "source": [
    "# Python program to find N largest \n",
    "# element from given list of integers \n",
    "  \n",
    "# Function returns N largest elements \n",
    "def Nmaxelements(list, N): \n",
    "    final_list = [] \n",
    "  \n",
    "    for i in range(0, N):  \n",
    "        max1 = 0\n",
    "          \n",
    "        for j in range(len(list)):      \n",
    "            if list[j] > max1: \n",
    "                max1 = list[j]; \n",
    "                  \n",
    "        list.remove(max1); \n",
    "        final_list.append(max1) \n",
    "          \n",
    "    print(final_list)  "
   ]
  },
  {
   "cell_type": "code",
   "execution_count": 138,
   "metadata": {
    "scrolled": false
   },
   "outputs": [
    {
     "data": {
      "text/plain": [
       "32"
      ]
     },
     "execution_count": 138,
     "metadata": {},
     "output_type": "execute_result"
    }
   ],
   "source": [
    "# count genres\n",
    "p = len(df.Genre.unique())                                # total number of genres\n",
    "\n",
    "# empty list\n",
    "genre_list = []\n",
    "\n",
    "# a for loop to count the number of songs in each genre\n",
    "for g in df.Genre.unique():\n",
    "    # mask by genre\n",
    "    x = df[df.Genre == g]\n",
    "    # count each genre\n",
    "    y = len(x)\n",
    "    # append to list\n",
    "    genre_list.append(y)\n"
   ]
  },
  {
   "cell_type": "code",
   "execution_count": 123,
   "metadata": {},
   "outputs": [
    {
     "name": "stdout",
     "output_type": "stream",
     "text": [
      "[553, 155, 78, 32, 28, 22, 21, 19, 11, 8]\n"
     ]
    }
   ],
   "source": [
    "Nmaxelements(list = genre_list, N = 10)"
   ]
  },
  {
   "cell_type": "code",
   "execution_count": 124,
   "metadata": {},
   "outputs": [],
   "source": [
    "top_genre =[553, 155, 78, 32, 28, 22, 21, 19, 11, 8]"
   ]
  },
  {
   "cell_type": "code",
   "execution_count": 125,
   "metadata": {},
   "outputs": [
    {
     "data": {
      "text/plain": [
       "['Alternative',\n",
       " 'Rock',\n",
       " 'Pop',\n",
       " 'Indie Rock',\n",
       " 'Hip-Hop/Rap',\n",
       " 'R&B/Soul',\n",
       " 'Electronic',\n",
       " 'Singer/Songwriter',\n",
       " 'Soundtrack',\n",
       " 'Hard Rock']"
      ]
     },
     "execution_count": 125,
     "metadata": {},
     "output_type": "execute_result"
    }
   ],
   "source": [
    "# a for loop to match the genres to the number of songs in that genre\n",
    "# empty list\n",
    "genre_list = []\n",
    "\n",
    "# a nested for loop to count the number of songs in each genre\n",
    "for n in top_genre:\n",
    "    for g in df.Genre.unique():\n",
    "        # mask by genre\n",
    "        x = df[df.Genre == g]\n",
    "        # count each genre\n",
    "        y = len(x)\n",
    "        # if statement to match number of songs and genre\n",
    "        if y == n:\n",
    "            # append to list\n",
    "            genre_list.append(g)\n",
    "genre_list"
   ]
  },
  {
   "cell_type": "code",
   "execution_count": 135,
   "metadata": {},
   "outputs": [
    {
     "data": {
      "image/png": "[encoded data removed]",
      "text/plain": [
       "<Figure size 1080x576 with 1 Axes>"
      ]
     },
     "metadata": {
      "needs_background": "light"
     },
     "output_type": "display_data"
    }
   ],
   "source": [
    "# plot data\n",
    "\n",
    "x = np.arange(len(genre_list))  # the label locations\n",
    "width = 0.9  # the width of the bars\n",
    "\n",
    "# initialize figure and axis\n",
    "fig = plt.figure(figsize = (15,8))\n",
    "ax = fig.add_subplot()\n",
    "\n",
    "# set up bars, one for the baseline and one for 2020\n",
    "rects1 = ax.bar(x*2, top_genre, width, label='Basline', color = 'blueviolet')\n",
    "\n",
    "# Add some text for labels, title and custom x-axis tick labels, etc.\n",
    "ax.set_ylabel('Number of Songs')\n",
    "ax.set_title('Number of Songs by Genre')\n",
    "ax.set_xticks(x*2)\n",
    "ax.set_xticklabels(genre_list)\n",
    "\n",
    "# autolabel function taken from matplotlib\n",
    "def autolabel(rects):\n",
    "    \"\"\"Attach a text label above each bar in *rects*, displaying its height.\"\"\"\n",
    "    for rect in rects:\n",
    "        height = round(rect.get_height(), 3)\n",
    "        ax.annotate('{}'.format(height),\n",
    "                    xy=(rect.get_x() + rect.get_width() / 2, height),\n",
    "                    xytext=(0, 3),  # 3 points vertical offset\n",
    "                    textcoords=\"offset points\",\n",
    "                    ha='center', va='bottom')\n",
    "\n",
    "\n",
    "autolabel(rects1)\n",
    "\n",
    "plt.savefig(\"figure2.png\" , transparent=True, pad_inches=0.4) # save as png\n",
    "\n",
    "fig.tight_layout()\n",
    "\n",
    "plt.show()\n",
    "\n"
   ]
  },
  {
   "cell_type": "code",
   "execution_count": 77,
   "metadata": {},
   "outputs": [
    {
     "data": {
      "text/plain": [
       "Index(['Track', 'Artist', 'Album', 'Genre', 'Size', 'Time', 'Year',\n",
       "       'Date Added', 'Date', 'Unnamed: 9', 'Bit Rate', 'Sample Rate', 'Plays',\n",
       "       'Last Played', 'Skips', 'DATE'],\n",
       "      dtype='object')"
      ]
     },
     "execution_count": 77,
     "metadata": {},
     "output_type": "execute_result"
    }
   ],
   "source": [
    "df.columns"
   ]
  },
  {
   "cell_type": "code",
   "execution_count": 127,
   "metadata": {},
   "outputs": [],
   "source": [
    "# number of songs by arist\n",
    "# count artists\n",
    "q = len(df.Artist.unique())                                  # total number of artists\n",
    "\n",
    "# empty list\n",
    "artist_list = []\n",
    "\n",
    "# a for loop to count the number of songs in each genre\n",
    "for a in df.Artist.unique():\n",
    "    # mask by genre\n",
    "    x = df[df.Artist == a]\n",
    "    # count each genre\n",
    "    y = len(x)\n",
    "    # append to list\n",
    "    artist_list.append(y)"
   ]
  },
  {
   "cell_type": "code",
   "execution_count": 128,
   "metadata": {},
   "outputs": [
    {
     "name": "stdout",
     "output_type": "stream",
     "text": [
      "[39, 28, 23, 19, 14, 13, 12, 12, 11, 11]\n"
     ]
    }
   ],
   "source": [
    "Nmaxelements(list = artist_list, N = 10)"
   ]
  },
  {
   "cell_type": "code",
   "execution_count": 129,
   "metadata": {},
   "outputs": [],
   "source": [
    "top_artist =[39, 28, 23, 19, 14, 13, 12, 12, 11, 11]"
   ]
  },
  {
   "cell_type": "code",
   "execution_count": 130,
   "metadata": {},
   "outputs": [],
   "source": [
    "# a for loop to match the genres to the number of songs in that artist\n",
    "# empty list\n",
    "artist_list = []\n",
    "\n",
    "# a nested for loop to count the number of songs in each artist\n",
    "for n in top_artist:\n",
    "    for a in df.Artist.unique():\n",
    "        # mask by genre\n",
    "        x = df[df.Artist == a]\n",
    "        # count each artist\n",
    "        y = len(x)\n",
    "        # if statement to match number of songs and artist\n",
    "        if y == n:\n",
    "            # append to list\n",
    "            artist_list.append(a)"
   ]
  },
  {
   "cell_type": "code",
   "execution_count": 131,
   "metadata": {},
   "outputs": [
    {
     "data": {
      "text/plain": [
       "['Tame Impala',\n",
       " 'Jack Johnson',\n",
       " 'Vampire Weekend',\n",
       " 'The Beatles',\n",
       " 'The Strokes',\n",
       " 'The Greeting Committee',\n",
       " 'The Black Keys',\n",
       " 'Black Pistol Fire',\n",
       " 'COIN',\n",
       " 'Mac DeMarco']"
      ]
     },
     "execution_count": 131,
     "metadata": {},
     "output_type": "execute_result"
    }
   ],
   "source": [
    "# make sure artist list is unique\n",
    "artist = []\n",
    "for x in artist_list:\n",
    "    if x not in artist:\n",
    "        artist.append(x)\n",
    "artist"
   ]
  },
  {
   "cell_type": "code",
   "execution_count": 137,
   "metadata": {},
   "outputs": [
    {
     "data": {
      "image/png": "[encoded data removed]",
      "text/plain": [
       "<Figure size 1080x576 with 1 Axes>"
      ]
     },
     "metadata": {
      "needs_background": "light"
     },
     "output_type": "display_data"
    }
   ],
   "source": [
    "# plot data\n",
    "\n",
    "x = np.arange(len(artist))  # the label locations\n",
    "width = .9  # the width of the bars\n",
    "\n",
    "# initialize figure and axis\n",
    "fig = plt.figure(figsize = (15,8))\n",
    "ax = fig.add_subplot()\n",
    "\n",
    "# set up bars, one for the baseline and one for 2020\n",
    "rects1 = ax.bar(x*2, top_artist, width, label='Basline', color = 'salmon')\n",
    "\n",
    "# Add some text for labels, title and custom x-axis tick labels, etc.\n",
    "ax.set_ylabel('Number of Songs')\n",
    "ax.set_title('Number of Songs by Artist')\n",
    "ax.set_xticks(x*2)\n",
    "ax.set_xticklabels(artist)\n",
    "\n",
    "# autolabel function taken from matplotlib\n",
    "def autolabel(rects):\n",
    "    \"\"\"Attach a text label above each bar in *rects*, displaying its height.\"\"\"\n",
    "    for rect in rects:\n",
    "        height = round(rect.get_height(), 3)\n",
    "        ax.annotate('{}'.format(height),\n",
    "                    xy=(rect.get_x() + rect.get_width() / 2, height),\n",
    "                    xytext=(0, 3),  # 3 points vertical offset\n",
    "                    textcoords=\"offset points\",\n",
    "                    ha='center', va='bottom')\n",
    "\n",
    "\n",
    "autolabel(rects1)\n",
    "\n",
    "\n",
    "\n",
    "fig.tight_layout()\n",
    "plt.savefig(\"figure3.png\" , transparent=True, pad_inches=0.4) # save as png\n",
    "plt.show()\n",
    "\n",
    "# hippo is ten btw"
   ]
  },
  {
   "cell_type": "code",
   "execution_count": 84,
   "metadata": {},
   "outputs": [
    {
     "data": {
      "text/plain": [
       "['Alternative',\n",
       " 'Rock',\n",
       " 'Pop',\n",
       " 'Indie Rock',\n",
       " 'Hip-Hop/Rap',\n",
       " 'R&B/Soul',\n",
       " 'Electronic',\n",
       " 'Singer/Songwriter',\n",
       " 'Soundtrack',\n",
       " 'Hard Rock']"
      ]
     },
     "execution_count": 84,
     "metadata": {},
     "output_type": "execute_result"
    }
   ],
   "source": [
    "genre_list"
   ]
  },
  {
   "cell_type": "code",
   "execution_count": 85,
   "metadata": {},
   "outputs": [
    {
     "data": {
      "text/html": [
       "<div>\n",
       "<style scoped>\n",
       "    .dataframe tbody tr th:only-of-type {\n",
       "        vertical-align: middle;\n",
       "    }\n",
       "\n",
       "    .dataframe tbody tr th {\n",
       "        vertical-align: top;\n",
       "    }\n",
       "\n",
       "    .dataframe thead th {\n",
       "        text-align: right;\n",
       "    }\n",
       "</style>\n",
       "<table border=\"1\" class=\"dataframe\">\n",
       "  <thead>\n",
       "    <tr style=\"text-align: right;\">\n",
       "      <th></th>\n",
       "      <th>Track</th>\n",
       "      <th>Artist</th>\n",
       "      <th>Album</th>\n",
       "      <th>Genre</th>\n",
       "      <th>Size</th>\n",
       "      <th>Time</th>\n",
       "      <th>Year</th>\n",
       "      <th>Date Added</th>\n",
       "      <th>Date</th>\n",
       "      <th>Unnamed: 9</th>\n",
       "      <th>Bit Rate</th>\n",
       "      <th>Sample Rate</th>\n",
       "      <th>Plays</th>\n",
       "      <th>Last Played</th>\n",
       "      <th>Skips</th>\n",
       "      <th>DATE</th>\n",
       "    </tr>\n",
       "  </thead>\n",
       "  <tbody>\n",
       "    <tr>\n",
       "      <td>0</td>\n",
       "      <td>Never Enough</td>\n",
       "      <td>Rex Orange County</td>\n",
       "      <td>Apricot Princess</td>\n",
       "      <td>Alternative</td>\n",
       "      <td>10355717.0</td>\n",
       "      <td>298.0</td>\n",
       "      <td>2017.0</td>\n",
       "      <td>7/7/2018, 2:32:00 AM</td>\n",
       "      <td>Saturday, July 7, 2018</td>\n",
       "      <td>2:32:00 AM</td>\n",
       "      <td>256.0</td>\n",
       "      <td>44100.0</td>\n",
       "      <td>41.0</td>\n",
       "      <td>4/30/2020 17:33</td>\n",
       "      <td>4.0</td>\n",
       "      <td>2018-07-07 02:32:00</td>\n",
       "    </tr>\n",
       "    <tr>\n",
       "      <td>2</td>\n",
       "      <td>Anemone</td>\n",
       "      <td>slenderbodies</td>\n",
       "      <td>Fabulist - EP</td>\n",
       "      <td>Alternative</td>\n",
       "      <td>8119232.0</td>\n",
       "      <td>228.0</td>\n",
       "      <td>2017.0</td>\n",
       "      <td>7/7/2018, 2:32:17 AM</td>\n",
       "      <td>Saturday, July 7, 2018</td>\n",
       "      <td>2:32:17 AM</td>\n",
       "      <td>256.0</td>\n",
       "      <td>44100.0</td>\n",
       "      <td>NaN</td>\n",
       "      <td>NaN</td>\n",
       "      <td>NaN</td>\n",
       "      <td>2018-07-07 02:32:17</td>\n",
       "    </tr>\n",
       "    <tr>\n",
       "      <td>5</td>\n",
       "      <td>All The Time</td>\n",
       "      <td>Bahamas</td>\n",
       "      <td>Bahamas is Afie</td>\n",
       "      <td>Alternative</td>\n",
       "      <td>9177858.0</td>\n",
       "      <td>234.0</td>\n",
       "      <td>2014.0</td>\n",
       "      <td>7/7/2018, 2:32:50 AM</td>\n",
       "      <td>Saturday, July 7, 2018</td>\n",
       "      <td>2:32:50 AM</td>\n",
       "      <td>256.0</td>\n",
       "      <td>44100.0</td>\n",
       "      <td>12.0</td>\n",
       "      <td>9/6/2018 10:12</td>\n",
       "      <td>2.0</td>\n",
       "      <td>2018-07-07 02:32:50</td>\n",
       "    </tr>\n",
       "  </tbody>\n",
       "</table>\n",
       "</div>"
      ],
      "text/plain": [
       "          Track             Artist             Album        Genre        Size  \\\n",
       "0  Never Enough  Rex Orange County  Apricot Princess  Alternative  10355717.0   \n",
       "2       Anemone      slenderbodies     Fabulist - EP  Alternative   8119232.0   \n",
       "5  All The Time            Bahamas   Bahamas is Afie  Alternative   9177858.0   \n",
       "\n",
       "    Time    Year            Date Added                    Date   Unnamed: 9  \\\n",
       "0  298.0  2017.0  7/7/2018, 2:32:00 AM  Saturday, July 7, 2018   2:32:00 AM   \n",
       "2  228.0  2017.0  7/7/2018, 2:32:17 AM  Saturday, July 7, 2018   2:32:17 AM   \n",
       "5  234.0  2014.0  7/7/2018, 2:32:50 AM  Saturday, July 7, 2018   2:32:50 AM   \n",
       "\n",
       "   Bit Rate  Sample Rate  Plays      Last Played  Skips                DATE  \n",
       "0     256.0      44100.0   41.0  4/30/2020 17:33    4.0 2018-07-07 02:32:00  \n",
       "2     256.0      44100.0    NaN              NaN    NaN 2018-07-07 02:32:17  \n",
       "5     256.0      44100.0   12.0   9/6/2018 10:12    2.0 2018-07-07 02:32:50  "
      ]
     },
     "execution_count": 85,
     "metadata": {},
     "output_type": "execute_result"
    }
   ],
   "source": [
    "# empty list\n",
    "top_songs = []\n",
    "\n",
    "# for loop to make a new df with only the top ten genres\n",
    "for s in genre_list:\n",
    "    x = df[df.Genre == s]\n",
    "    top_songs.append(x)\n",
    "    \n",
    "# concatentate list of dfs to df\n",
    "df_top = pd.concat(top_songs)\n",
    "df_top.head(n=3)"
   ]
  },
  {
   "cell_type": "code",
   "execution_count": 133,
   "metadata": {},
   "outputs": [
    {
     "data": {
      "image/png": "[encoded data removed]",
      "text/plain": [
       "<Figure size 1224x576 with 1 Axes>"
      ]
     },
     "metadata": {
      "needs_background": "light"
     },
     "output_type": "display_data"
    }
   ],
   "source": [
    "p = 10\n",
    "\n",
    "# Use cubehelix to get a custom sequential palette\n",
    "pal = sns.cubehelix_palette(p, rot=-2.2, dark=.35, hue = 1.5)\n",
    "\n",
    "# initialize figure and axis\n",
    "fig = plt.figure(figsize = (17,8))\n",
    "ax = fig.add_subplot()\n",
    "ax.set_title('Song Length by Genre')\n",
    "\n",
    "# song length by genre violin plot\n",
    "sns.violinplot(x = df_top.Genre , y = df_top.Time , palette=pal, inner=\"points\")\n",
    "\n",
    "plt.savefig(\"figure4.png\" , transparent=True, pad_inches=0.4) # save as png"
   ]
  },
  {
   "cell_type": "code",
   "execution_count": 134,
   "metadata": {
    "scrolled": false
   },
   "outputs": [
    {
     "data": {
      "image/png": "[encoded data removed]",
      "text/plain": [
       "<Figure size 1224x576 with 1 Axes>"
      ]
     },
     "metadata": {
      "needs_background": "light"
     },
     "output_type": "display_data"
    }
   ],
   "source": [
    "p = 10\n",
    "\n",
    "# Use cubehelix to get a custom sequential palette\n",
    "pal = sns.cubehelix_palette(p, rot=-2.2, dark=.35, hue = 1.5)\n",
    "\n",
    "# initialize figure and axis\n",
    "fig = plt.figure(figsize = (17,8))\n",
    "ax = fig.add_subplot()\n",
    "ax.set_title('Song Year by Genre')\n",
    "\n",
    "# song length by genre violin plot\n",
    "sns.violinplot(x = df_top.Genre , y = df_top.Year , palette=pal, inner=\"points\")\n",
    "\n",
    "plt.savefig(\"figure5.png\" , transparent=True, pad_inches=0.4) # save as png"
   ]
  },
  {
   "cell_type": "code",
   "execution_count": 113,
   "metadata": {},
   "outputs": [
    {
     "data": {
      "text/plain": [
       "1.36986301369863"
      ]
     },
     "execution_count": 113,
     "metadata": {},
     "output_type": "execute_result"
    }
   ],
   "source": [
    "# songs per day over two years\n",
    "1000/(365*2)"
   ]
  },
  {
   "cell_type": "code",
   "execution_count": 114,
   "metadata": {},
   "outputs": [
    {
     "data": {
      "text/plain": [
       "Index(['Track', 'Artist', 'Album', 'Genre', 'Size', 'Time', 'Year',\n",
       "       'Date Added', 'Date', 'Unnamed: 9', 'Bit Rate', 'Sample Rate', 'Plays',\n",
       "       'Last Played', 'Skips', 'DATE'],\n",
       "      dtype='object')"
      ]
     },
     "execution_count": 114,
     "metadata": {},
     "output_type": "execute_result"
    }
   ],
   "source": [
    "df.columns"
   ]
  },
  {
   "cell_type": "code",
   "execution_count": 115,
   "metadata": {},
   "outputs": [
    {
     "name": "stdout",
     "output_type": "stream",
     "text": [
      "2018-07-07 02:32:00\n",
      "2019-09-28 02:59:50\n",
      "448 days 00:27:50\n",
      "1.1160714285714286\n"
     ]
    }
   ],
   "source": [
    "# date of first song\n",
    "first = df.DATE[0]\n",
    "# date of 500th song\n",
    "half = df.DATE[501]\n",
    "# time to 500\n",
    "dif = half - first\n",
    "# songs per day\n",
    "rate = 500 / 448\n",
    "\n",
    "print(first)\n",
    "print(half)\n",
    "print(dif)\n",
    "print(rate)"
   ]
  },
  {
   "cell_type": "code",
   "execution_count": 116,
   "metadata": {},
   "outputs": [
    {
     "name": "stdout",
     "output_type": "stream",
     "text": [
      "2019-09-28 02:59:50\n",
      "2020-07-09 22:00:00\n",
      "285 days 19:00:10\n",
      "1.7543859649122806\n"
     ]
    }
   ],
   "source": [
    "# date of 501st song\n",
    "half = df.DATE[502]\n",
    "# date of 1000th song\n",
    "last = df.DATE[992]           # CHANGE THIS TO 1001\n",
    "# 501 - 1000 time\n",
    "dif = last - half\n",
    "# songs per day\n",
    "rate = 500 / 285\n",
    "\n",
    "print(half)\n",
    "print(last)\n",
    "print(dif)\n",
    "print(rate)"
   ]
  },
  {
   "cell_type": "code",
   "execution_count": 140,
   "metadata": {},
   "outputs": [
    {
     "data": {
      "text/plain": [
       "443"
      ]
     },
     "execution_count": 140,
     "metadata": {},
     "output_type": "execute_result"
    }
   ],
   "source": [
    "a = len(df.Artist.unique())\n",
    "a"
   ]
  },
  {
   "cell_type": "code",
   "execution_count": 142,
   "metadata": {},
   "outputs": [
    {
     "data": {
      "text/plain": [
       "Index(['Track', 'Artist', 'Album', 'Genre', 'Size', 'Time', 'Year',\n",
       "       'Date Added', 'Date', 'Unnamed: 9', 'Bit Rate', 'Sample Rate', 'Plays',\n",
       "       'Last Played', 'Skips', 'DATE'],\n",
       "      dtype='object')"
      ]
     },
     "execution_count": 142,
     "metadata": {},
     "output_type": "execute_result"
    }
   ],
   "source": [
    "df.columns"
   ]
  },
  {
   "cell_type": "code",
   "execution_count": 149,
   "metadata": {},
   "outputs": [
    {
     "data": {
      "text/html": [
       "<div>\n",
       "<style scoped>\n",
       "    .dataframe tbody tr th:only-of-type {\n",
       "        vertical-align: middle;\n",
       "    }\n",
       "\n",
       "    .dataframe tbody tr th {\n",
       "        vertical-align: top;\n",
       "    }\n",
       "\n",
       "    .dataframe thead th {\n",
       "        text-align: right;\n",
       "    }\n",
       "</style>\n",
       "<table border=\"1\" class=\"dataframe\">\n",
       "  <thead>\n",
       "    <tr style=\"text-align: right;\">\n",
       "      <th></th>\n",
       "      <th>Track</th>\n",
       "      <th>Artist</th>\n",
       "      <th>Album</th>\n",
       "      <th>Genre</th>\n",
       "      <th>Size</th>\n",
       "      <th>Time</th>\n",
       "      <th>Year</th>\n",
       "      <th>Date Added</th>\n",
       "      <th>Date</th>\n",
       "      <th>Unnamed: 9</th>\n",
       "      <th>Bit Rate</th>\n",
       "      <th>Sample Rate</th>\n",
       "      <th>Plays</th>\n",
       "      <th>Last Played</th>\n",
       "      <th>Skips</th>\n",
       "      <th>DATE</th>\n",
       "    </tr>\n",
       "  </thead>\n",
       "  <tbody>\n",
       "    <tr>\n",
       "      <td>247</td>\n",
       "      <td>Mean Mr Mustard</td>\n",
       "      <td>The Beatles</td>\n",
       "      <td>Abbey Road (Remastered)</td>\n",
       "      <td>Rock</td>\n",
       "      <td>3070095.0</td>\n",
       "      <td>66.0</td>\n",
       "      <td>1969.0</td>\n",
       "      <td>1/15/2019, 12:19:11 AM</td>\n",
       "      <td>Tuesday, January 15, 2019</td>\n",
       "      <td>12:19:11 AM</td>\n",
       "      <td>256.0</td>\n",
       "      <td>44100.0</td>\n",
       "      <td>NaN</td>\n",
       "      <td>NaN</td>\n",
       "      <td>NaN</td>\n",
       "      <td>2019-01-15 00:19:11</td>\n",
       "    </tr>\n",
       "  </tbody>\n",
       "</table>\n",
       "</div>"
      ],
      "text/plain": [
       "               Track       Artist                    Album Genre       Size  \\\n",
       "247  Mean Mr Mustard  The Beatles  Abbey Road (Remastered)  Rock  3070095.0   \n",
       "\n",
       "     Time    Year              Date Added                       Date  \\\n",
       "247  66.0  1969.0  1/15/2019, 12:19:11 AM  Tuesday, January 15, 2019   \n",
       "\n",
       "       Unnamed: 9  Bit Rate  Sample Rate  Plays Last Played  Skips  \\\n",
       "247   12:19:11 AM     256.0      44100.0    NaN         NaN    NaN   \n",
       "\n",
       "                   DATE  \n",
       "247 2019-01-15 00:19:11  "
      ]
     },
     "execution_count": 149,
     "metadata": {},
     "output_type": "execute_result"
    }
   ],
   "source": [
    "min = df.Time.min()\n",
    "shortest = df[df.Time == min]\n",
    "shortest"
   ]
  },
  {
   "cell_type": "code",
   "execution_count": 150,
   "metadata": {},
   "outputs": [
    {
     "data": {
      "text/html": [
       "<div>\n",
       "<style scoped>\n",
       "    .dataframe tbody tr th:only-of-type {\n",
       "        vertical-align: middle;\n",
       "    }\n",
       "\n",
       "    .dataframe tbody tr th {\n",
       "        vertical-align: top;\n",
       "    }\n",
       "\n",
       "    .dataframe thead th {\n",
       "        text-align: right;\n",
       "    }\n",
       "</style>\n",
       "<table border=\"1\" class=\"dataframe\">\n",
       "  <thead>\n",
       "    <tr style=\"text-align: right;\">\n",
       "      <th></th>\n",
       "      <th>Track</th>\n",
       "      <th>Artist</th>\n",
       "      <th>Album</th>\n",
       "      <th>Genre</th>\n",
       "      <th>Size</th>\n",
       "      <th>Time</th>\n",
       "      <th>Year</th>\n",
       "      <th>Date Added</th>\n",
       "      <th>Date</th>\n",
       "      <th>Unnamed: 9</th>\n",
       "      <th>Bit Rate</th>\n",
       "      <th>Sample Rate</th>\n",
       "      <th>Plays</th>\n",
       "      <th>Last Played</th>\n",
       "      <th>Skips</th>\n",
       "      <th>DATE</th>\n",
       "    </tr>\n",
       "  </thead>\n",
       "  <tbody>\n",
       "    <tr>\n",
       "      <td>671</td>\n",
       "      <td>The Mighty Rio Grande</td>\n",
       "      <td>This Will Destroy You</td>\n",
       "      <td>This Will Destroy You</td>\n",
       "      <td>Rock</td>\n",
       "      <td>24060701.0</td>\n",
       "      <td>676.0</td>\n",
       "      <td>2007.0</td>\n",
       "      <td>2/24/2020, 7:28:40 AM</td>\n",
       "      <td>Monday, February 24, 2020</td>\n",
       "      <td>7:28:40 AM</td>\n",
       "      <td>256.0</td>\n",
       "      <td>44100.0</td>\n",
       "      <td>NaN</td>\n",
       "      <td>NaN</td>\n",
       "      <td>NaN</td>\n",
       "      <td>2020-02-24 07:28:40</td>\n",
       "    </tr>\n",
       "  </tbody>\n",
       "</table>\n",
       "</div>"
      ],
      "text/plain": [
       "                     Track                 Artist                  Album  \\\n",
       "671  The Mighty Rio Grande  This Will Destroy You  This Will Destroy You   \n",
       "\n",
       "    Genre        Size   Time    Year             Date Added  \\\n",
       "671  Rock  24060701.0  676.0  2007.0  2/24/2020, 7:28:40 AM   \n",
       "\n",
       "                          Date   Unnamed: 9  Bit Rate  Sample Rate  Plays  \\\n",
       "671  Monday, February 24, 2020   7:28:40 AM     256.0      44100.0    NaN   \n",
       "\n",
       "    Last Played  Skips                DATE  \n",
       "671         NaN    NaN 2020-02-24 07:28:40  "
      ]
     },
     "execution_count": 150,
     "metadata": {},
     "output_type": "execute_result"
    }
   ],
   "source": [
    "max = df.Time.max()\n",
    "longest = df[df.Time == max]\n",
    "longest"
   ]
  },
  {
   "cell_type": "code",
   "execution_count": 153,
   "metadata": {},
   "outputs": [
    {
     "data": {
      "text/html": [
       "<div>\n",
       "<style scoped>\n",
       "    .dataframe tbody tr th:only-of-type {\n",
       "        vertical-align: middle;\n",
       "    }\n",
       "\n",
       "    .dataframe tbody tr th {\n",
       "        vertical-align: top;\n",
       "    }\n",
       "\n",
       "    .dataframe thead th {\n",
       "        text-align: right;\n",
       "    }\n",
       "</style>\n",
       "<table border=\"1\" class=\"dataframe\">\n",
       "  <thead>\n",
       "    <tr style=\"text-align: right;\">\n",
       "      <th></th>\n",
       "      <th>Track</th>\n",
       "      <th>Artist</th>\n",
       "      <th>Album</th>\n",
       "      <th>Genre</th>\n",
       "      <th>Size</th>\n",
       "      <th>Time</th>\n",
       "      <th>Year</th>\n",
       "      <th>Date Added</th>\n",
       "      <th>Date</th>\n",
       "      <th>Unnamed: 9</th>\n",
       "      <th>Bit Rate</th>\n",
       "      <th>Sample Rate</th>\n",
       "      <th>Plays</th>\n",
       "      <th>Last Played</th>\n",
       "      <th>Skips</th>\n",
       "      <th>DATE</th>\n",
       "    </tr>\n",
       "  </thead>\n",
       "  <tbody>\n",
       "    <tr>\n",
       "      <td>393</td>\n",
       "      <td>Girl</td>\n",
       "      <td>The Beatles</td>\n",
       "      <td>Rubber Soul</td>\n",
       "      <td>Rock</td>\n",
       "      <td>6126248.0</td>\n",
       "      <td>151.0</td>\n",
       "      <td>1965.0</td>\n",
       "      <td>6/24/2019, 9:20:01 PM</td>\n",
       "      <td>Monday, June 24, 2019</td>\n",
       "      <td>9:20:01 PM</td>\n",
       "      <td>256.0</td>\n",
       "      <td>44100.0</td>\n",
       "      <td>NaN</td>\n",
       "      <td>NaN</td>\n",
       "      <td>NaN</td>\n",
       "      <td>2019-06-24 21:20:01</td>\n",
       "    </tr>\n",
       "    <tr>\n",
       "      <td>394</td>\n",
       "      <td>You Won't See Me</td>\n",
       "      <td>The Beatles</td>\n",
       "      <td>Rubber Soul</td>\n",
       "      <td>Rock</td>\n",
       "      <td>7677983.0</td>\n",
       "      <td>199.0</td>\n",
       "      <td>1965.0</td>\n",
       "      <td>6/24/2019, 9:20:01 PM</td>\n",
       "      <td>Monday, June 24, 2019</td>\n",
       "      <td>9:20:01 PM</td>\n",
       "      <td>256.0</td>\n",
       "      <td>44100.0</td>\n",
       "      <td>12.0</td>\n",
       "      <td>6/10/2019 15:29</td>\n",
       "      <td>2.0</td>\n",
       "      <td>2019-06-24 21:20:01</td>\n",
       "    </tr>\n",
       "    <tr>\n",
       "      <td>611</td>\n",
       "      <td>Act Naturally</td>\n",
       "      <td>The Beatles</td>\n",
       "      <td>Help!</td>\n",
       "      <td>Rock</td>\n",
       "      <td>6002555.0</td>\n",
       "      <td>150.0</td>\n",
       "      <td>1965.0</td>\n",
       "      <td>2/1/2020, 9:48:10 PM</td>\n",
       "      <td>Saturday, February 1, 2020</td>\n",
       "      <td>9:48:10 PM</td>\n",
       "      <td>256.0</td>\n",
       "      <td>44100.0</td>\n",
       "      <td>1.0</td>\n",
       "      <td>11/14/2019 8:52</td>\n",
       "      <td>NaN</td>\n",
       "      <td>2020-02-01 21:48:10</td>\n",
       "    </tr>\n",
       "  </tbody>\n",
       "</table>\n",
       "</div>"
      ],
      "text/plain": [
       "                Track       Artist        Album Genre       Size   Time  \\\n",
       "393              Girl  The Beatles  Rubber Soul  Rock  6126248.0  151.0   \n",
       "394  You Won't See Me  The Beatles  Rubber Soul  Rock  7677983.0  199.0   \n",
       "611     Act Naturally  The Beatles        Help!  Rock  6002555.0  150.0   \n",
       "\n",
       "       Year             Date Added                        Date   Unnamed: 9  \\\n",
       "393  1965.0  6/24/2019, 9:20:01 PM       Monday, June 24, 2019   9:20:01 PM   \n",
       "394  1965.0  6/24/2019, 9:20:01 PM       Monday, June 24, 2019   9:20:01 PM   \n",
       "611  1965.0   2/1/2020, 9:48:10 PM  Saturday, February 1, 2020   9:48:10 PM   \n",
       "\n",
       "     Bit Rate  Sample Rate  Plays      Last Played  Skips                DATE  \n",
       "393     256.0      44100.0    NaN              NaN    NaN 2019-06-24 21:20:01  \n",
       "394     256.0      44100.0   12.0  6/10/2019 15:29    2.0 2019-06-24 21:20:01  \n",
       "611     256.0      44100.0    1.0  11/14/2019 8:52    NaN 2020-02-01 21:48:10  "
      ]
     },
     "execution_count": 153,
     "metadata": {},
     "output_type": "execute_result"
    }
   ],
   "source": [
    "min = df.Year.min()\n",
    "oldest = df[df.Year == min]\n",
    "oldest"
   ]
  },
  {
   "cell_type": "code",
   "execution_count": null,
   "metadata": {},
   "outputs": [],
   "source": []
  }
 ],
 "metadata": {
  "kernelspec": {
   "display_name": "Python 3",
   "language": "python",
   "name": "python3"
  },
  "language_info": {
   "codemirror_mode": {
    "name": "ipython",
    "version": 3
   },
   "file_extension": ".py",
   "mimetype": "text/x-python",
   "name": "python",
   "nbconvert_exporter": "python",
   "pygments_lexer": "ipython3",
   "version": "3.6.9"
  }
 },
 "nbformat": 4,
 "nbformat_minor": 2
}
